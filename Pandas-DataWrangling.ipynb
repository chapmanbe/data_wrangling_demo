{
 "cells": [
  {
   "cell_type": "markdown",
   "metadata": {},
   "source": [
    "# [Pandas Data Wrangling](http://pandas.pydata.org/)"
   ]
  },
  {
   "cell_type": "code",
   "execution_count": null,
   "metadata": {},
   "outputs": [],
   "source": [
    "import os\n",
    "import sqlite3 as sqlite\n",
    "DATADIR = os.path.join(\".\", \"Resources\")\n",
    "os.path.exists(DATADIR)"
   ]
  },
  {
   "cell_type": "code",
   "execution_count": null,
   "metadata": {},
   "outputs": [],
   "source": [
    "import pandas as pd"
   ]
  },
  {
   "cell_type": "code",
   "execution_count": null,
   "metadata": {},
   "outputs": [],
   "source": [
    "import numpy as np"
   ]
  },
  {
   "cell_type": "markdown",
   "metadata": {},
   "source": [
    "## Reading in NaN/Missing Values, etc."
   ]
  },
  {
   "cell_type": "markdown",
   "metadata": {},
   "source": [
    "## Modifying Values \n",
    "### ``replace()``\n"
   ]
  },
  {
   "cell_type": "code",
   "execution_count": null,
   "metadata": {},
   "outputs": [],
   "source": [
    "elevation = pd.read_table(os.path.join(DATADIR,\"elevation.txt\"))"
   ]
  },
  {
   "cell_type": "code",
   "execution_count": null,
   "metadata": {},
   "outputs": [],
   "source": [
    "elevation"
   ]
  },
  {
   "cell_type": "markdown",
   "metadata": {},
   "source": [
    "This data is easy to read, but had to compute with. First off, we have numeric values except for \"Sea level\". We can use ``replace`` to replace \"Sea level\" with \"0 feet\" to match the other cells"
   ]
  },
  {
   "cell_type": "code",
   "execution_count": null,
   "metadata": {},
   "outputs": [],
   "source": [
    "elevation.replace(\"Sea level\",\"0 feet\")\n"
   ]
  },
  {
   "cell_type": "markdown",
   "metadata": {},
   "source": [
    "We can also use regular expressions to identify and change data."
   ]
  },
  {
   "cell_type": "code",
   "execution_count": null,
   "metadata": {},
   "outputs": [],
   "source": [
    "import re\n",
    "r2 = re.compile(\"feet\")"
   ]
  },
  {
   "cell_type": "code",
   "execution_count": null,
   "metadata": {},
   "outputs": [],
   "source": [
    "elevation.replace(\"Sea level\",\"0 feet\").replace(r2,\"\").to_csv(os.path.join(\"/tmp\",\n",
    "                                                                           \"elevation2.txt\"),\n",
    "                                                             sep=\"\\t\")\n",
    "elevation2=elevation.replace(\"Sea level\",\"0 feet\").replace(r2,\"\")\n",
    "elevation2"
   ]
  },
  {
   "cell_type": "markdown",
   "metadata": {},
   "source": [
    "## What is the data type of the elevation cells"
   ]
  },
  {
   "cell_type": "code",
   "execution_count": null,
   "metadata": {},
   "outputs": [],
   "source": [
    "print(elevation2[\"Highest elevation\"][0])\n",
    "print(type(elevation2[\"Highest elevation\"][0]))\n"
   ]
  },
  {
   "cell_type": "markdown",
   "metadata": {},
   "source": [
    "## Can we convert elevations to numeric values"
   ]
  },
  {
   "cell_type": "code",
   "execution_count": null,
   "metadata": {},
   "outputs": [],
   "source": [
    "help(elevation2.convert_objects)"
   ]
  },
  {
   "cell_type": "code",
   "execution_count": null,
   "metadata": {},
   "outputs": [],
   "source": [
    "elevation2.convert_dtypes(convert_floating=True).dtypes"
   ]
  },
  {
   "cell_type": "code",
   "execution_count": null,
   "metadata": {},
   "outputs": [],
   "source": []
  },
  {
   "cell_type": "markdown",
   "metadata": {},
   "source": [
    "### Pandas didn't know how to deal with \",\" in numbers\n",
    "\n",
    "* Two approaches\n",
    "    1. When reading in numeric values we can specify the ``thousands`` keywoard\n",
    "    2. We can use the [``locale``](https://docs.python.org/3.5/library/locale.html#module-locale) package\n",
    "* I saved the dataframe where we had replaced ``Sea level`` and ``feet``"
   ]
  },
  {
   "cell_type": "code",
   "execution_count": null,
   "metadata": {},
   "outputs": [],
   "source": [
    "pd.read_table(os.path.join(\"/tmp\",\"elevation2.txt\"),\n",
    "                           thousands=\",\",\n",
    "                           index_col='State')"
   ]
  },
  {
   "cell_type": "code",
   "execution_count": null,
   "metadata": {},
   "outputs": [],
   "source": []
  },
  {
   "cell_type": "code",
   "execution_count": null,
   "metadata": {},
   "outputs": [],
   "source": [
    "import locale\n",
    "print(locale.getlocale())\n"
   ]
  },
  {
   "cell_type": "code",
   "execution_count": null,
   "metadata": {},
   "outputs": [],
   "source": [
    "help(locale.setlocale)"
   ]
  },
  {
   "cell_type": "markdown",
   "metadata": {},
   "source": [
    "### Alternative approach: using `locale`\n",
    "#### see [here](https://docs.python.org/3/library/locale.html#locale.setlocale) for `setlocale` documentation"
   ]
  },
  {
   "cell_type": "code",
   "execution_count": null,
   "metadata": {},
   "outputs": [],
   "source": [
    "locale.setlocale(locale.LC_NUMERIC, '') # I'm a little confused by this\n",
    "elevation3 = elevation2.copy()\n",
    "elevation3['Lowest elevation'] = \\\n",
    "elevation3.apply(lambda row: locale.atof(row['Lowest elevation']),\n",
    "                     axis=1)\n",
    "elevation3['Highest elevation'] = \\\n",
    "elevation3.apply(lambda row: locale.atof(row['Highest elevation']),\n",
    "                     axis=1)\n",
    "elevation3['Average elevation'] = \\\n",
    "elevation3.apply(lambda row: locale.atof(row['Average elevation']),\n",
    "                     axis=1)\n",
    "elevation3"
   ]
  },
  {
   "cell_type": "markdown",
   "metadata": {},
   "source": [
    "### What if we set the locale incorrectly?"
   ]
  },
  {
   "cell_type": "code",
   "execution_count": null,
   "metadata": {},
   "outputs": [],
   "source": [
    "locale.setlocale(locale.LC_NUMERIC, \"de_DE.UTF-8\")\n",
    "#locale.setlocale(locale.LC_NUMERIC, '') # I'm a little confused by this\n",
    "elevation4 = elevation2.copy()\n",
    "elevation4['Lowest elevation'] = \\\n",
    "elevation4.apply(lambda row: locale.atof(row['Lowest elevation']),\n",
    "                     axis=1)\n",
    "elevation4['Highest elevation'] = \\\n",
    "elevation4.apply(lambda row: locale.atof(row['Highest elevation']),\n",
    "                     axis=1)\n",
    "elevation4['Average elevation'] = \\\n",
    "elevation4.apply(lambda row: locale.atof(row['Average elevation']),\n",
    "                     axis=1)\n",
    "elevation4"
   ]
  },
  {
   "cell_type": "markdown",
   "metadata": {},
   "source": [
    "### What locales are available?"
   ]
  },
  {
   "cell_type": "code",
   "execution_count": null,
   "metadata": {},
   "outputs": [],
   "source": [
    "!locale -a"
   ]
  },
  {
   "cell_type": "code",
   "execution_count": null,
   "metadata": {},
   "outputs": [],
   "source": []
  }
 ],
 "metadata": {
  "anaconda-cloud": {},
  "kernelspec": {
   "display_name": "Python 3 (ipykernel)",
   "language": "python",
   "name": "python3"
  },
  "language_info": {
   "codemirror_mode": {
    "name": "ipython",
    "version": 3
   },
   "file_extension": ".py",
   "mimetype": "text/x-python",
   "name": "python",
   "nbconvert_exporter": "python",
   "pygments_lexer": "ipython3",
   "version": "3.11.4"
  }
 },
 "nbformat": 4,
 "nbformat_minor": 4
}
