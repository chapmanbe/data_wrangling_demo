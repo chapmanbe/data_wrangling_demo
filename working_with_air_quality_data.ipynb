{
 "cells": [
  {
   "cell_type": "markdown",
   "metadata": {},
   "source": [
    "# Air quality and health\n",
    "\n",
    "One of the significant health challenges of my hometown of Salt Lake City, Utah is air quality. During the summer, due to its elevation, it gets high levels of ozone, which can damage lung tissue. During the winter, Salt Lake City gets temperature inversions which lead to concentrations of very small particulates in the air. High particulate concentrations aggrevate conditions like asthma, leading to an increase in emergency room visits and hospitalizations. Hence if one can could predict air pollution, one could adjust staffing at emergency rooms, for example. One of the causes of temperature inversions (and subsequent particulate concentration) is snowpack on the ground. So a simple machine learning problem might be predicting future asthma visits from the current snow pack conditions.\n",
    "\n",
    "But before we attempt that, we need to \"wrangle\" our data, which comes from two distinct sources. Snowpack comes from the Weather Bureau while the air quality data comes from the Environmental Protection Agency. So before we create a model, we need to merge the two data sets."
   ]
  },
  {
   "cell_type": "code",
   "execution_count": null,
   "metadata": {},
   "outputs": [],
   "source": [
    "import os\n",
    "import pandas as pd\n",
    "import datetime\n",
    "import numpy as np"
   ]
  },
  {
   "cell_type": "code",
   "execution_count": null,
   "metadata": {},
   "outputs": [],
   "source": [
    "DATADIR = os.path.join(\"./Resources\")\n",
    "os.path.exists(DATADIR)"
   ]
  },
  {
   "cell_type": "markdown",
   "metadata": {},
   "source": [
    "## Read the air quality data"
   ]
  },
  {
   "cell_type": "code",
   "execution_count": null,
   "metadata": {},
   "outputs": [],
   "source": [
    "slc = pd.read_csv(os.path.join(DATADIR, 'Salt_Lake_2016_PM25.csv'))\n",
    "print(slc.columns)\n",
    "slc.head()"
   ]
  },
  {
   "cell_type": "markdown",
   "metadata": {},
   "source": [
    "### Comments:\n",
    "\n",
    "* Dates and times are split into separate columns\n",
    "* We have both local time and UTC time\n",
    "* Date formats?"
   ]
  },
  {
   "cell_type": "markdown",
   "metadata": {},
   "source": [
    "#### using ``parse_dates``"
   ]
  },
  {
   "cell_type": "code",
   "execution_count": null,
   "metadata": {},
   "outputs": [],
   "source": [
    "use_cols = [\n",
    "       'Latitude', 'Longitude', 'Datum', 'Parameter Name', 'Date Local',\n",
    "       'Time Local', 'Date GMT', 'Time GMT', 'Sample Measurement',\n",
    "       'Units of Measure', 'MDL', 'Uncertainty', 'State Name', 'County Name',\n",
    "       ]"
   ]
  },
  {
   "cell_type": "code",
   "execution_count": null,
   "metadata": {},
   "outputs": [],
   "source": [
    "slc_aq = pd.read_csv(os.path.join(DATADIR, 'Salt_Lake_2016_PM25.csv'), \n",
    "              parse_dates=[[\"Time Local\", \"Date Local\"],\n",
    "                           ['Date GMT', 'Time GMT']], usecols=use_cols).head()\n",
    "slc_aq.head()"
   ]
  },
  {
   "cell_type": "markdown",
   "metadata": {},
   "source": [
    "## Read in weather data"
   ]
  },
  {
   "cell_type": "code",
   "execution_count": null,
   "metadata": {},
   "outputs": [],
   "source": [
    "slc_weather = pd.read_csv(os.path.join(DATADIR, 'SLC_Weather_2016.csv' ))\n",
    "slc_weather.head()"
   ]
  },
  {
   "cell_type": "markdown",
   "metadata": {},
   "source": [
    "### What to say about the data?"
   ]
  },
  {
   "cell_type": "code",
   "execution_count": null,
   "metadata": {},
   "outputs": [],
   "source": [
    "slc_weather = pd.read_csv(os.path.join(DATADIR, 'SLC_Weather_2016.csv'), \n",
    "                          skiprows=[1],\n",
    "                          parse_dates=[\"Day\"])\n",
    "slc_weather.head()"
   ]
  },
  {
   "cell_type": "markdown",
   "metadata": {},
   "source": [
    "## Our Weather data have resolution of days\n",
    "## Our pollutant data has resolution of hours\n",
    "## What should we do?"
   ]
  }
 ],
 "metadata": {
  "kernelspec": {
   "display_name": "Python 3 (ipykernel)",
   "language": "python",
   "name": "python3"
  },
  "language_info": {
   "codemirror_mode": {
    "name": "ipython",
    "version": 3
   },
   "file_extension": ".py",
   "mimetype": "text/x-python",
   "name": "python",
   "nbconvert_exporter": "python",
   "pygments_lexer": "ipython3",
   "version": "3.11.4"
  }
 },
 "nbformat": 4,
 "nbformat_minor": 4
}
